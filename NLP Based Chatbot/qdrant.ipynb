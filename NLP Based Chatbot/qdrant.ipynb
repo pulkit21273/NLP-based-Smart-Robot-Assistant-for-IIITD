{
 "cells": [
  {
   "cell_type": "code",
   "execution_count": null,
   "id": "075ac03c",
   "metadata": {},
   "outputs": [],
   "source": [
    "from langchain.vectorstores import Qdrant\n",
    "from langchain.embeddings.huggingface import HuggingFaceEmbeddings\n",
    "import qdrant_client\n",
    "import os\n",
    "from langchain_community.llms import LlamaCpp\n",
    "from langchain_community.document_loaders import TextLoader\n",
    "from langchain_text_splitters import RecursiveCharacterTextSplitter\n",
    "from langchain.document_loaders import DirectoryLoader, PyMuPDFLoader\n",
    "from langchain.chains import create_history_aware_retriever\n",
    "from langchain_core.prompts import ChatPromptTemplate, MessagesPlaceholder\n",
    "from langchain.chains import create_retrieval_chain\n",
    "from langchain.chains.combine_documents import create_stuff_documents_chain\n",
    "from langchain_core.messages import HumanMessage\n",
    "import torch\n",
    "import torch.nn as nn\n",
    "import torch.optim as optim\n",
    "import pandas as pd\n",
    "import numpy as np\n",
    "from sklearn.model_selection import train_test_split\n",
    "from sklearn.feature_extraction.text import TfidfVectorizer\n",
    "from torch.utils.data import DataLoader, TensorDataset\n",
    "from qdrant_client import QdrantClient\n",
    "from qdrant_client.http.models import Distance, VectorParams"
   ]
  },
  {
   "cell_type": "code",
   "execution_count": null,
   "id": "65e88291",
   "metadata": {},
   "outputs": [],
   "source": [
    "embedding_model_id = 'sentence-transformers/all-MiniLM-L6-v2'\n",
    "embedding_model = HuggingFaceEmbeddings(\n",
    "    model_name=embedding_model_id,\n",
    "    encode_kwargs={'batch_size': 16}\n",
    ")"
   ]
  },
  {
   "cell_type": "code",
   "execution_count": null,
   "id": "f96ab13d",
   "metadata": {},
   "outputs": [],
   "source": [
    "client = QdrantClient(\"localhost\", port=6333)\n",
    "collection_name = 'pulkitcollection'\n",
    "client.recreate_collection(\n",
    " collection_name=collection_name,\n",
    " vectors_config=VectorParams(size=384, distance=Distance.COSINE),\n",
    ")\n",
    "vectorstore = Qdrant(\n",
    "        client=client,\n",
    "        collection_name='pulkitcollection',\n",
    "        embeddings=embedding_model\n",
    "    )"
   ]
  },
  {
   "cell_type": "code",
   "execution_count": null,
   "id": "cf844648",
   "metadata": {},
   "outputs": [],
   "source": [
    "loader = DirectoryLoader(\"documents\", glob=\"*.pdf\", loader_cls=PyMuPDFLoader)\n",
    "docs = loader.load()\n",
    "\n",
    "# Split the documents into smaller chunks\n",
    "text_splitter = RecursiveCharacterTextSplitter(chunk_size=500, chunk_overlap=100) # Change\n",
    "splits = text_splitter.split_documents(docs)\n",
    "vectorstore.add_documents(documents=splits)"
   ]
  }
 ],
 "metadata": {
  "kernelspec": {
   "display_name": ".venv",
   "language": "python",
   "name": "python3"
  },
  "language_info": {
   "name": "python",
   "version": "3.8.10"
  }
 },
 "nbformat": 4,
 "nbformat_minor": 5
}
